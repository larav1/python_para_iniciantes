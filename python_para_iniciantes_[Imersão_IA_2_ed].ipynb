{
  "nbformat": 4,
  "nbformat_minor": 0,
  "metadata": {
    "colab": {
      "provenance": [],
      "authorship_tag": "ABX9TyOKTm+Cj4UYAfZ7w+Grvmk+",
      "include_colab_link": true
    },
    "kernelspec": {
      "name": "python3",
      "display_name": "Python 3"
    },
    "language_info": {
      "name": "python"
    }
  },
  "cells": [
    {
      "cell_type": "markdown",
      "metadata": {
        "id": "view-in-github",
        "colab_type": "text"
      },
      "source": [
        "<a href=\"https://colab.research.google.com/github/larav1/python_para_iniciantes/blob/main/python_para_iniciantes_%5BImers%C3%A3o_IA_2_ed%5D.ipynb\" target=\"_parent\"><img src=\"https://colab.research.google.com/assets/colab-badge.svg\" alt=\"Open In Colab\"/></a>"
      ]
    },
    {
      "cell_type": "markdown",
      "source": [
        "## Projeto python para iniciantes\n",
        "\n",
        "O projeto `python_para_iniciantes` é voltado especialmente para pessoas interessadas em compreender a linguagem de programação python, mas que não têm muito conhecimento sobre a mesma.\n",
        "\n",
        "O Chatbot pode explicar conceitos fundamentais de python, como por exemplo, variáveis, operadores lógicos, operadores relacionais, entre outros. Pode tirar dúvidas, estudar e adquirir novos conhecimentos, o usuário pode também buscar referências adicionais para o estudo de python, através do chatbot.\n",
        "\n"
      ],
      "metadata": {
        "id": "vsjY10vCpNad"
      }
    },
    {
      "cell_type": "markdown",
      "source": [
        "<img src=\"https://user-images.githubusercontent.com/49786548/84605451-b6d36200-ae73-11ea-94b3-9927d07f85fd.png\" width=\"500\">\n"
      ],
      "metadata": {
        "id": "-rac92jqjsAk"
      }
    },
    {
      "cell_type": "markdown",
      "source": [
        "### Etapas"
      ],
      "metadata": {
        "id": "d-Phy0XvkNho"
      }
    },
    {
      "cell_type": "markdown",
      "source": [
        "<img src=\"https://cdn-icons-png.freepik.com/512/6089/6089153.png\" width=\"80\">"
      ],
      "metadata": {
        "id": "5-_RnG41m3cq"
      }
    },
    {
      "cell_type": "markdown",
      "source": [
        "#### Instalação do SDK do Python"
      ],
      "metadata": {
        "id": "1ICOaMerj9_z"
      }
    },
    {
      "cell_type": "code",
      "source": [
        "!pip install -q -U google-generativeai"
      ],
      "metadata": {
        "id": "VvOdphWyreo0"
      },
      "execution_count": null,
      "outputs": []
    },
    {
      "cell_type": "markdown",
      "source": [
        "#### Importar os pacotes necessários e configuração da API Key"
      ],
      "metadata": {
        "id": "aMUvHG33kUAv"
      }
    },
    {
      "cell_type": "code",
      "execution_count": null,
      "metadata": {
        "id": "BZQBlY-tnc6F"
      },
      "outputs": [],
      "source": [
        "import pathlib\n",
        "import textwrap\n",
        "\n",
        "import google.generativeai as genai\n",
        "\n",
        "from IPython.display import display\n",
        "from IPython.display import Markdown\n",
        "\n",
        "GOOGLE_API_KEY=\"Sua_API_key\"\n",
        "genai.configure(api_key=GOOGLE_API_KEY)\n",
        "\n",
        "def to_markdown(text):\n",
        "  text = text.replace('•', '  *')\n",
        "  return Markdown(textwrap.indent(text, '> ', predicate=lambda _: True))"
      ]
    },
    {
      "cell_type": "markdown",
      "source": [
        "#### Configurando os parâmetros"
      ],
      "metadata": {
        "id": "6pzlkyyZknSI"
      }
    },
    {
      "cell_type": "code",
      "source": [
        "config = {\n",
        "    \"candidate_count\": 1,\n",
        "    \"temperature\": 0.9,\n",
        "}"
      ],
      "metadata": {
        "id": "u5hA_PYLwnIr"
      },
      "execution_count": null,
      "outputs": []
    },
    {
      "cell_type": "code",
      "source": [
        "#Filtros\n",
        "safety={\n",
        "    \"HARASSMENT\": \"BLOCK_ONLY_HIGH\",\n",
        "    \"HATE\": \"BLOCK_ONLY_HIGH\",\n",
        "    \"SEXUAL\" : \"BLOCK_ONLY_HIGH\",\n",
        "    \"DANGEROUS\" : \"BLOCK_ONLY_HIGH\"\n",
        "    }"
      ],
      "metadata": {
        "id": "0EyChV_Zwz2X"
      },
      "execution_count": null,
      "outputs": []
    },
    {
      "cell_type": "markdown",
      "source": [
        "#### Inicializando o modelo"
      ],
      "metadata": {
        "id": "oUBoRcNakxOJ"
      }
    },
    {
      "cell_type": "code",
      "source": [
        "system_instruction = \"Serão feitas perguntas sobre Python. São pessoas que ainda estão aprendendo ou querem aprender essa linguagem\"\n",
        "model = genai.GenerativeModel(model_name=\"gemini-1.5-pro-latest\",\n",
        "                              system_instruction=system_instruction,\n",
        "                              generation_config=config,\n",
        "                              safety_settings=safety,)"
      ],
      "metadata": {
        "id": "wn4G3VhJw7bv"
      },
      "execution_count": null,
      "outputs": []
    },
    {
      "cell_type": "markdown",
      "source": [
        "#### Criando uma response"
      ],
      "metadata": {
        "id": "PWTmXbMuk5tA"
      }
    },
    {
      "cell_type": "code",
      "source": [
        "response = model.generate_content(\"Fale sobre a linguagem de programação Python\")\n",
        "to_markdown(response.text)"
      ],
      "metadata": {
        "colab": {
          "base_uri": "https://localhost:8080/",
          "height": 759
        },
        "id": "Am_RbUcAw_Ke",
        "outputId": "a5059b5a-aaf8-4e17-fcda-b8904f401675"
      },
      "execution_count": null,
      "outputs": [
        {
          "output_type": "execute_result",
          "data": {
            "text/plain": [
              "<IPython.core.display.Markdown object>"
            ],
            "text/markdown": "> ## Mergulhando no mundo Python: Uma Linguagem para Todos\n> \n> Python é uma linguagem de programação que conquistou o mundo. Seja você um completo iniciante ou um programador experiente, Python tem algo a oferecer. Vamos explorar o que torna essa linguagem tão especial:\n> \n> **Fácil de Aprender e Usar:**\n> \n> * **Sintaxe Clara:** Python se destaca por sua sintaxe intuitiva, que se assemelha à linguagem humana. Isso facilita a leitura e escrita de código, tornando o aprendizado mais rápido e agradável.\n> * **Versatilidade:** Python é incrivelmente versátil, abrangendo diversas áreas, como desenvolvimento web, análise de dados, inteligência artificial, automação e muito mais.\n> * **Comunidade Ativa:** Uma comunidade global vibrante oferece suporte constante, recursos abundantes e bibliotecas (conjuntos de códigos pré-construídos) para diversas tarefas, simplificando o desenvolvimento.\n> \n> **Recursos Poderosos:**\n> \n> * **Linguagem Interpretada:** Python não precisa ser compilado, o que acelera o processo de desenvolvimento, permitindo testar e executar código rapidamente.\n> * **Tipagem Dinâmica:** Python determina automaticamente o tipo de dado, tornando o código mais conciso e flexível.\n> * **Orientação a Objetos:** Python suporta programação orientada a objetos, um paradigma poderoso para organizar e reutilizar código de forma eficiente.\n> \n> **Aplicações Ilimitadas:**\n> \n> * **Desenvolvimento Web:** Frameworks como Django e Flask simplificam a criação de sites e aplicações web robustas.\n> * **Ciência de Dados:** Bibliotecas como Pandas, NumPy e Scikit-learn fornecem ferramentas poderosas para análise e visualização de dados.\n> * **Machine Learning:** TensorFlow, PyTorch e Keras permitem desenvolver algoritmos de inteligência artificial e aprendizado de máquina.\n> * **Automação:** Python automatiza tarefas repetitivas, desde organização de arquivos até interação com outros softwares.\n> \n> **Começando sua Jornada em Python:**\n> \n> * **Recursos Online:** Plataformas como Coursera, edX, Udemy e Khan Academy oferecem cursos gratuitos e pagos para iniciantes.\n> * **Livros e Tutoriais:** Diversos livros e tutoriais abrangentes estão disponíveis online e em bibliotecas.\n> * **Comunidades Online:** Grupos no Facebook, fóruns e plataformas como Stack Overflow conectam você com outros entusiastas de Python para tirar dúvidas e compartilhar conhecimento.\n> \n> Python é uma linguagem poderosa e acessível, ideal para iniciantes e experientes. Com dedicação e os recursos certos, você poderá dominar essa ferramenta versátil e abrir portas para um mundo de possibilidades. \n"
          },
          "metadata": {},
          "execution_count": 84
        }
      ]
    },
    {
      "cell_type": "markdown",
      "source": [
        "#### Criando o chat"
      ],
      "metadata": {
        "id": "8MrCHcD0lFWC"
      }
    },
    {
      "cell_type": "code",
      "source": [
        "chat = model.start_chat(history=[])"
      ],
      "metadata": {
        "id": "Ba0wBczOxRdX"
      },
      "execution_count": null,
      "outputs": []
    },
    {
      "cell_type": "code",
      "source": [
        "prompt = input(\"Você: \")\n",
        "\n",
        "while prompt != \"fim\":\n",
        "  response = chat.send_message(prompt)\n",
        "  display(to_markdown(response.text))\n",
        "  prompt = input(\"Você: \")"
      ],
      "metadata": {
        "colab": {
          "base_uri": "https://localhost:8080/",
          "height": 1000
        },
        "id": "LweH6uOwxSGB",
        "outputId": "9b8f9b68-bb30-41db-b055-8c6fcb79a1ac"
      },
      "execution_count": null,
      "outputs": [
        {
          "name": "stdout",
          "output_type": "stream",
          "text": [
            "Você: o que é python?\n"
          ]
        },
        {
          "output_type": "display_data",
          "data": {
            "text/plain": [
              "<IPython.core.display.Markdown object>"
            ],
            "text/markdown": "> Em termos simples, Python é como um conjunto de instruções que você dá ao seu computador para que ele faça algo útil, divertido ou interessante. \n> \n> Imagine que você quer fazer um bolo. Você tem os ingredientes (farinha, açúcar, ovos, etc.) e uma receita que te diz passo a passo como combinar esses ingredientes para criar o bolo. Python é como a receita, e os ingredientes são os dados que você quer usar.\n> \n> **Em termos mais técnicos:**\n> \n> * Python é uma **linguagem de programação**, ou seja, um conjunto de regras e palavras-chave que os humanos usam para se comunicar com computadores.\n> * É uma linguagem **interpretada**, o que significa que o computador lê e executa o código linha por linha, sem precisar compilá-lo antes.\n> * É uma linguagem **de alto nível**, o que significa que é mais fácil de entender e escrever do que linguagens de baixo nível, que são mais próximas da linguagem de máquina.\n> * É uma linguagem **de propósito geral**, o que significa que pode ser usada para criar uma variedade de programas, desde sites e aplicativos web até jogos e scripts de automação.\n> \n> **Algumas características que tornam Python especial:**\n> \n> * **Sintaxe simples e legível:** Python é conhecido por ser fácil de ler e escrever, mesmo para quem nunca programou antes. \n> * **Grande comunidade e muitos recursos:** Existe uma enorme comunidade de pessoas que usam e amam Python, o que significa que você encontrará muitos tutoriais, cursos e fóruns online para te ajudar no aprendizado. \n> * **Versatilidade:** Python pode ser usado para uma ampla gama de tarefas, como desenvolvimento web, análise de dados, machine learning, scripting e automação.\n> \n> **Em resumo:** Python é uma linguagem poderosa e versátil que pode te ajudar a fazer coisas incríveis com computadores! \n"
          },
          "metadata": {}
        },
        {
          "name": "stdout",
          "output_type": "stream",
          "text": [
            "Você: Quais as principais características?\n"
          ]
        },
        {
          "output_type": "display_data",
          "data": {
            "text/plain": [
              "<IPython.core.display.Markdown object>"
            ],
            "text/markdown": "> Python possui diversas características que o tornam uma linguagem de programação tão popular. As principais são:\n> \n> **1. Sintaxe Clara e Legível:**\n> \n> * Python foi projetado para ser fácil de ler e entender. A sintaxe se assemelha ao inglês, tornando o código mais intuitivo e menos intimidador para iniciantes.\n> * Utiliza indentação para definir blocos de código, o que força uma estrutura organizada e legível.\n> \n> **Exemplo:**\n> \n> ```python\n> if idade >= 18:\n>   print(\"Você é maior de idade.\")\n> else:\n>   print(\"Você é menor de idade.\")\n> ```\n> \n> **2. Linguagem Interpretada:**\n> \n> * Python é executado por um interpretador, o que significa que o código é lido e executado linha por linha, sem a necessidade de compilação prévia.\n> * Isso facilita o desenvolvimento e a depuração, pois você pode testar o código em tempo real e ver os resultados imediatamente.\n> \n> **3. Tipagem Dinâmica:**\n> \n> * Você não precisa declarar o tipo de variável explicitamente, o interpretador infere o tipo durante a execução. \n> * Isso torna o código mais conciso e flexível, mas exige atenção para evitar erros de tipo.\n> \n> **Exemplo:**\n> \n> ```python\n> nome = \"Maria\"  # Python entende que \"Maria\" é uma string\n> idade = 25     # Python entende que 25 é um inteiro\n> ```\n> \n> **4. Linguagem de Alto Nível:**\n> \n> * Python abstrai muitos detalhes de baixo nível do hardware, permitindo que você se concentre na lógica do programa. \n> * Isso torna o desenvolvimento mais rápido e eficiente.\n> \n> **5. Multiparadigma:**\n> \n> * Python suporta múltiplos paradigmas de programação, incluindo:\n>     * **Programação Orientada a Objetos:** Permite criar classes e objetos, promovendo a organização e reutilização de código.\n>     * **Programação Imperativa:** Baseada em comandos sequenciais que modificam o estado do programa.\n>     * **Programação Funcional:** Enfatiza o uso de funções como blocos de construção principais do programa.\n> \n> **6. Grande Biblioteca Padrão:**\n> \n> * Python possui uma vasta biblioteca padrão com módulos pré-construídos para diversas tarefas, como manipulação de strings, operações matemáticas, acesso a arquivos, conexão de rede e muito mais.\n> * Isso evita que você precise reinventar a roda e acelera o desenvolvimento.\n> \n> **7. Extensível e com Grande Ecossistema:**\n> \n> * Além da biblioteca padrão, Python possui um rico ecossistema de bibliotecas de terceiros para áreas como desenvolvimento web, ciência de dados, machine learning, visualização de dados, etc.\n> * Você pode facilmente instalar e integrar essas bibliotecas em seus projetos, adicionando funcionalidades e recursos poderosos.\n> \n> **8. Open Source e Gratuito:**\n> \n> * Python é uma linguagem de código aberto, o que significa que é gratuita para usar, distribuir e modificar. \n> * Isso incentiva a colaboração e a inovação na comunidade.\n> \n> Essas características combinadas fazem de Python uma linguagem poderosa, versátil e fácil de aprender, tornando-se uma escolha popular para uma ampla gama de aplicações.\n"
          },
          "metadata": {}
        },
        {
          "name": "stdout",
          "output_type": "stream",
          "text": [
            "Você: fim\n"
          ]
        }
      ]
    },
    {
      "cell_type": "markdown",
      "source": [
        "### Testando os conhecimentos adquiridos"
      ],
      "metadata": {
        "id": "oMsiqoROT-_A"
      }
    },
    {
      "cell_type": "markdown",
      "source": [
        "<img src=\"https://www.luxemburgoead.com.br/uploads/images/bra_paginas/redimencionar-537-440-perguntas.png\" width=\"100\">"
      ],
      "metadata": {
        "id": "CawmnOwnluTx"
      }
    },
    {
      "cell_type": "markdown",
      "source": [
        "Serão realizadas 10 perguntas sobre python com o intuito de testar os conhecimentos adquiridos com o uso do Chatbot.\n",
        "\n",
        "Instruções do quiz:\n",
        "\n",
        "* Responda 1 para Verdadeiro e 2 para Falso;\n",
        "* A pontuação é mostrada apenas no final."
      ],
      "metadata": {
        "id": "fgsd8FggUDJK"
      }
    },
    {
      "cell_type": "code",
      "source": [
        "class Question:\n",
        "    def __init__(self, text, choices, answer):\n",
        "        self.text = text\n",
        "        self.choices = choices\n",
        "        self.answer = answer\n",
        "\n",
        "    def check_answer(self, user_answer):\n",
        "        return user_answer.lower() == self.answer.lower()\n",
        "\n",
        "\n",
        "class Quiz:\n",
        "    def __init__(self, questions):\n",
        "        self.questions = questions\n",
        "        self.score = 0\n",
        "\n",
        "    def run_quiz(self):\n",
        "        for question in self.questions:\n",
        "            print(question.text)\n",
        "            for index, choice in enumerate(question.choices, start=1):\n",
        "                print(f\"{index}. {choice}\")\n",
        "\n",
        "            user_answer = input(\"Sua resposta (escolha um número): \")\n",
        "            if question.check_answer(user_answer):\n",
        "                print(\"Correto!\\n\")\n",
        "                self.score += 1\n",
        "            else:\n",
        "                print(\"Incorreto!\\n\")\n",
        "\n",
        "        print(f\"Quiz finalizado! Sua pontuação é: {self.score}/{len(self.questions)}\")\n",
        "\n",
        "\n",
        "# Perguntas\n",
        "questions = [\n",
        "    Question(\"Python pode realizar operações matemáticas!\", [\"Verdadeiro\", \"Falso\"], \"1\"),\n",
        "    Question(\"É uma linguagem de programação que não apresenta sintaxe clara\", [\"Verdadeiro\", \"Falso\"], \"2\"),\n",
        "    Question(\"O operador == é utilizado para verificar se dois valores são iguais\", [\"Verdadeiro\", \"Falso\"], \"1\"),\n",
        "    Question(\"Python pode ser utilizado para o desenvolvimento de jogos\", [\"Verdadeiro\", \"Falso\"], \"1\"),\n",
        "    Question(\"Nomes de variáveis não podem conter espaços em branco\", [\"Verdadeiro\", \"Falso\"], \"1\"),\n",
        "    Question(\"Nomes de variáveis podem começar com números\", [\"Verdadeiro\", \"Falso\"], \"2\"),\n",
        "    Question(\"Uma variável é numérica quando armazena números: int e float\", [\"Verdadeiro\", \"Falso\"], \"1\"),\n",
        "    Question(\"A função input é utilizada para solicitar dados do usuário\", [\"Verdadeiro\", \"Falso\"], \"1\"),\n",
        "    Question(\"Python pode ser utilizado para o desenvolvimento web\", [\"Verdadeiro\", \"Falso\"], \"1\"),\n",
        "    Question(\"Python é bastante utilizado em aplicações de IA - Inteligência Artificial\", [\"Verdadeiro\", \"Falso\"], \"1\"),\n",
        "\n",
        "]\n",
        "\n",
        "# Criação do quiz\n",
        "python_quiz = Quiz(questions)\n",
        "\n",
        "# Executa o quiz\n",
        "python_quiz.run_quiz()\n"
      ],
      "metadata": {
        "colab": {
          "base_uri": "https://localhost:8080/"
        },
        "id": "xBtwsXMsTqLA",
        "outputId": "d6a7f6c9-740e-4fdb-d150-1d6454bff2a1"
      },
      "execution_count": null,
      "outputs": [
        {
          "output_type": "stream",
          "name": "stdout",
          "text": [
            "Python pode realizar operações matemáticas!\n",
            "1. Verdadeiro\n",
            "2. Falso\n",
            "Sua resposta (escolha um número): 1\n",
            "Correto!\n",
            "\n",
            "É uma linguagem de programação que não apresenta sintaxe clara\n",
            "1. Verdadeiro\n",
            "2. Falso\n",
            "Sua resposta (escolha um número): 2\n",
            "Correto!\n",
            "\n",
            "O operador == é utilizado para verificar se dois valores são iguais\n",
            "1. Verdadeiro\n",
            "2. Falso\n",
            "Sua resposta (escolha um número): 1\n",
            "Correto!\n",
            "\n",
            "Python pode ser utilizado para o desenvolvimento de jogos\n",
            "1. Verdadeiro\n",
            "2. Falso\n",
            "Sua resposta (escolha um número): 1\n",
            "Correto!\n",
            "\n",
            "Nomes de variáveis não podem conter espaços em branco\n",
            "1. Verdadeiro\n",
            "2. Falso\n",
            "Sua resposta (escolha um número): 1\n",
            "Correto!\n",
            "\n",
            "Nomes de variáveis podem começar com números\n",
            "1. Verdadeiro\n",
            "2. Falso\n",
            "Sua resposta (escolha um número): 2\n",
            "Correto!\n",
            "\n",
            "Uma variável é numérica quando armazena números: int e float\n",
            "1. Verdadeiro\n",
            "2. Falso\n",
            "Sua resposta (escolha um número): 1\n",
            "Correto!\n",
            "\n",
            "A função input é utilizada para solicitar dados do usuário\n",
            "1. Verdadeiro\n",
            "2. Falso\n",
            "Sua resposta (escolha um número): 1\n",
            "Correto!\n",
            "\n",
            "Python pode ser utilizado para o desenvolvimento web\n",
            "1. Verdadeiro\n",
            "2. Falso\n",
            "Sua resposta (escolha um número): 1\n",
            "Correto!\n",
            "\n",
            "Python é bastante utilizado em aplicações de IA - Inteligência Artificial\n",
            "1. Verdadeiro\n",
            "2. Falso\n",
            "Sua resposta (escolha um número): 1\n",
            "Correto!\n",
            "\n",
            "Quiz finalizado! Sua pontuação é: 10/10\n"
          ]
        }
      ]
    }
  ]
}